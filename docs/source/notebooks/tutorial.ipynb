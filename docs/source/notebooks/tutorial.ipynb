{
 "cells": [
  {
   "cell_type": "markdown",
   "metadata": {},
   "source": [
    "# Tutorial"
   ]
  },
  {
   "cell_type": "markdown",
   "metadata": {},
   "source": [
    "## Decorators"
   ]
  },
  {
   "cell_type": "markdown",
   "metadata": {},
   "source": [
    "### @timeit_arg_info_dec\n",
    "`timeit_arg_info_dec` is a decorator that decorates a function when it runs, by printing its used parameters, their arguments, the execution time and the output of that function.\n",
    "This can help e.g. with debugging."
   ]
  },
  {
   "cell_type": "code",
   "execution_count": 1,
   "metadata": {},
   "outputs": [
    {
     "name": "stdout",
     "output_type": "stream",
     "text": [
      "    param          type_hint                    default_value    arg_type                     arg_value                 arg_len\n",
      "--  -------------  ---------------------------  ---------------  ---------------------------  ------------------------  ---------\n",
      " 0  a_number       int                                           int                          42\n",
      " 1  text           str                                           str                          Bob                       3\n",
      " 2  lst            List[int]                                     list                         [0, 1, 2,  .. 7, 98, 99]  100\n",
      " 3  df             pandas.core.frame.DataFrame                   pandas.core.frame.DataFrame                            (1, 9)\n",
      " 4  either         bool                         True             bool                         False\n",
      " 5  kwarg['Even']                                                str                          this works!               11\n",
      "\n",
      "illustrate_decorater() took 1.0 seconds to run.\n",
      "\n",
      "Returned:\n",
      "Look how informative!\n"
     ]
    },
    {
     "data": {
      "text/plain": [
       "'Look how informative!'"
      ]
     },
     "execution_count": 1,
     "metadata": {},
     "output_type": "execute_result"
    }
   ],
   "source": [
    "from typing import List\n",
    "from time import sleep\n",
    "\n",
    "import pandas as pd\n",
    "\n",
    "from extra_ds_tools.decorators.func_decorators import timeit_arg_info_dec\n",
    "\n",
    "@timeit_arg_info_dec(round_seconds=1)\n",
    "def illustrate_decorater(a_number: int, \n",
    "                         text: str,\n",
    "                         lst: List[int],\n",
    "                         df: pd.DataFrame,\n",
    "                         either: bool = True,\n",
    "                         *args,\n",
    "                         **kwargs):\n",
    "    sleep(1)\n",
    "    return \"Look how informative!\"\n",
    "\n",
    "illustrate_decorater(42, 'Bob', list(range(100)), pd.DataFrame([list(range(1,10))]), either=False, **{'Even': 'this works!'})"
   ]
  },
  {
   "cell_type": "markdown",
   "metadata": {},
   "source": []
  }
 ],
 "metadata": {
  "kernelspec": {
   "display_name": "Python 3.8.13 64-bit ('extra_ds_tools')",
   "language": "python",
   "name": "python3"
  },
  "language_info": {
   "codemirror_mode": {
    "name": "ipython",
    "version": 3
   },
   "file_extension": ".py",
   "mimetype": "text/x-python",
   "name": "python",
   "nbconvert_exporter": "python",
   "pygments_lexer": "ipython3",
   "version": "3.8.13"
  },
  "orig_nbformat": 4,
  "vscode": {
   "interpreter": {
    "hash": "012066d3e2891cac772de58ba4cd1d7572d7e457951ebdf1e8f9e34dd4e3d6f7"
   }
  }
 },
 "nbformat": 4,
 "nbformat_minor": 2
}
